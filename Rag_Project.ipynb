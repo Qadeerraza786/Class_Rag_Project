{
  "nbformat": 4,
  "nbformat_minor": 0,
  "metadata": {
    "colab": {
      "provenance": [],
      "authorship_tag": "ABX9TyMyXaAP0M5XRtu/bpmc+hzM",
      "include_colab_link": true
    },
    "kernelspec": {
      "name": "python3",
      "display_name": "Python 3"
    },
    "language_info": {
      "name": "python"
    }
  },
  "cells": [
    {
      "cell_type": "markdown",
      "metadata": {
        "id": "view-in-github",
        "colab_type": "text"
      },
      "source": [
        "<a href=\"https://colab.research.google.com/github/Qadeerraza786/Class_Rag_Project/blob/main/Rag_Project.ipynb\" target=\"_parent\"><img src=\"https://colab.research.google.com/assets/colab-badge.svg\" alt=\"Open In Colab\"/></a>"
      ]
    },
    {
      "cell_type": "code",
      "execution_count": 7,
      "metadata": {
        "id": "p67v_Gy26g_v"
      },
      "outputs": [],
      "source": [
        "!pip install -q -U langchain-google-genai"
      ]
    },
    {
      "cell_type": "code",
      "source": [
        "from google.colab import userdata\n",
        "GEMINI_API_KEY=userdata.get('GEMINI_API_KEY')"
      ],
      "metadata": {
        "id": "cL5QTSzf6kyo"
      },
      "execution_count": 8,
      "outputs": []
    },
    {
      "cell_type": "code",
      "source": [
        "from langchain_google_genai import ChatGoogleGenerativeAI"
      ],
      "metadata": {
        "id": "do8-Z4Qn6syg"
      },
      "execution_count": 9,
      "outputs": []
    },
    {
      "cell_type": "code",
      "source": [
        "llm = ChatGoogleGenerativeAI(\n",
        "    model=\"gemini-1.5-flash\",\n",
        "    api_key=GEMINI_API_KEY,\n",
        ")"
      ],
      "metadata": {
        "id": "lJbNfp5W683i"
      },
      "execution_count": 10,
      "outputs": []
    },
    {
      "cell_type": "code",
      "source": [
        "from langchain_core.tools import tool\n",
        "\n",
        "\"\"\"Return the annual report \"\"\"\n",
        "@tool\n",
        "def annual_return(a:int)->float:\n",
        "  \"\"\"Return the annual report \"\"\"\n",
        "  return (a+15)/5+3\n",
        "@tool\n",
        "def add(a:int, b:int)->int:\n",
        "  #Return Annual of two num a and b\n",
        "  \"\"\"return the addition\"\"\"\n",
        "  return a+b\n",
        "\n",
        "@tool\n",
        "def multiply(a:int, b:int)->int:\n",
        "  \"\"\"return the multiplication\"\"\"\n",
        "  #Return multiply of two num a and b\n",
        "  return a*b\n",
        "\n",
        "tools = [annual_return, add, multiply]"
      ],
      "metadata": {
        "id": "XsyXqe5C7ons"
      },
      "execution_count": 36,
      "outputs": []
    },
    {
      "cell_type": "code",
      "source": [
        "llm.invoke(\"what is the annaul return of 10\")"
      ],
      "metadata": {
        "colab": {
          "base_uri": "https://localhost:8080/"
        },
        "id": "Dp21GI0i96MU",
        "outputId": "673f1c7f-231b-4797-95f4-e7dd503e42b1"
      },
      "execution_count": 37,
      "outputs": [
        {
          "output_type": "execute_result",
          "data": {
            "text/plain": [
              "AIMessage(content='An annual return of 10% means that an investment increased in value by 10% over a one-year period.  For example, if you invested $1000 and received a 10% annual return, your investment would be worth $1100 at the end of the year.', additional_kwargs={}, response_metadata={'prompt_feedback': {'block_reason': 0, 'safety_ratings': []}, 'finish_reason': 'STOP', 'safety_ratings': []}, id='run-449c5009-6104-4bc2-9eb6-ac31401b837f-0', usage_metadata={'input_tokens': 11, 'output_tokens': 67, 'total_tokens': 78, 'input_token_details': {'cache_read': 0}})"
            ]
          },
          "metadata": {},
          "execution_count": 37
        }
      ]
    },
    {
      "cell_type": "code",
      "source": [
        "llm_with_tools = llm.bind_tools(tools)"
      ],
      "metadata": {
        "id": "OwQ5DdkO-Gwm"
      },
      "execution_count": 38,
      "outputs": []
    },
    {
      "cell_type": "code",
      "source": [
        "llm_with_tools.invoke(\"what is the annual return of 10?\")"
      ],
      "metadata": {
        "colab": {
          "base_uri": "https://localhost:8080/"
        },
        "id": "iO4ftr-_-X3K",
        "outputId": "bdbeec3d-6944-47e6-d3cf-3c82061d19cb"
      },
      "execution_count": 39,
      "outputs": [
        {
          "output_type": "execute_result",
          "data": {
            "text/plain": [
              "AIMessage(content='', additional_kwargs={'function_call': {'name': 'annual_return', 'arguments': '{\"a\": 10.0}'}}, response_metadata={'prompt_feedback': {'block_reason': 0, 'safety_ratings': []}, 'finish_reason': 'STOP', 'safety_ratings': []}, id='run-f0c8cc6a-fb12-429c-9874-0bfd07276f7c-0', tool_calls=[{'name': 'annual_return', 'args': {'a': 10.0}, 'id': '74cbccfc-68c1-447d-985b-5c35e041024d', 'type': 'tool_call'}], usage_metadata={'input_tokens': 135, 'output_tokens': 4, 'total_tokens': 139, 'input_token_details': {'cache_read': 0}})"
            ]
          },
          "metadata": {},
          "execution_count": 39
        }
      ]
    },
    {
      "cell_type": "code",
      "source": [
        "from langchain_core.messages import HumanMessage\n",
        "query = \"what is annual return of 25\"\n",
        "message = [HumanMessage(query)]\n",
        "display(message)"
      ],
      "metadata": {
        "colab": {
          "base_uri": "https://localhost:8080/",
          "height": 35
        },
        "id": "vdBdoZQU_xHK",
        "outputId": "46622463-7de7-4b07-b688-5d54f6d018b5"
      },
      "execution_count": 40,
      "outputs": [
        {
          "output_type": "display_data",
          "data": {
            "text/plain": [
              "[HumanMessage(content='what is annual return of 25', additional_kwargs={}, response_metadata={})]"
            ]
          },
          "metadata": {}
        }
      ]
    },
    {
      "cell_type": "code",
      "source": [
        "ai_msg = llm_with_tools.invoke(message)\n",
        "message.append(ai_msg)\n",
        "message"
      ],
      "metadata": {
        "colab": {
          "base_uri": "https://localhost:8080/"
        },
        "id": "GBpHrTIqAVjQ",
        "outputId": "e7cedab7-98d1-49c4-e0aa-1a233f4d8bab"
      },
      "execution_count": 43,
      "outputs": [
        {
          "output_type": "execute_result",
          "data": {
            "text/plain": [
              "[HumanMessage(content='what is annual return of 25', additional_kwargs={}, response_metadata={}),\n",
              " AIMessage(content='', additional_kwargs={'function_call': {'name': 'annual_return', 'arguments': '{\"a\": 25.0}'}}, response_metadata={'prompt_feedback': {'block_reason': 0, 'safety_ratings': []}, 'finish_reason': 'STOP', 'safety_ratings': []}, id='run-1da9644f-b817-4522-91f7-60459efbe0a9-0', tool_calls=[{'name': 'annual_return', 'args': {'a': 25.0}, 'id': '3b2decb3-59e1-4dd7-b6c9-dd6f544450ad', 'type': 'tool_call'}], usage_metadata={'input_tokens': 133, 'output_tokens': 4, 'total_tokens': 137, 'input_token_details': {'cache_read': 0}})]"
            ]
          },
          "metadata": {},
          "execution_count": 43
        }
      ]
    },
    {
      "cell_type": "code",
      "source": [
        "ai_msg.tool_calls"
      ],
      "metadata": {
        "colab": {
          "base_uri": "https://localhost:8080/"
        },
        "id": "vSg0s3JyAySZ",
        "outputId": "3f225b11-d288-464f-ea98-eba3cf96251f"
      },
      "execution_count": 46,
      "outputs": [
        {
          "output_type": "execute_result",
          "data": {
            "text/plain": [
              "[{'name': 'annual_return',\n",
              "  'args': {'a': 25.0},\n",
              "  'id': '3b2decb3-59e1-4dd7-b6c9-dd6f544450ad',\n",
              "  'type': 'tool_call'}]"
            ]
          },
          "metadata": {},
          "execution_count": 46
        }
      ]
    },
    {
      "cell_type": "code",
      "source": [
        "for tool_call in ai_msg.tool_calls:\n",
        "  print(tool_call)"
      ],
      "metadata": {
        "colab": {
          "base_uri": "https://localhost:8080/"
        },
        "id": "016AOXNuA8hx",
        "outputId": "370600de-2b30-474e-af90-0248b809d96a"
      },
      "execution_count": 47,
      "outputs": [
        {
          "output_type": "stream",
          "name": "stdout",
          "text": [
            "{'name': 'annual_return', 'args': {'a': 25.0}, 'id': '3b2decb3-59e1-4dd7-b6c9-dd6f544450ad', 'type': 'tool_call'}\n"
          ]
        }
      ]
    },
    {
      "cell_type": "code",
      "source": [
        "for tool_call in ai_msg.tool_calls:\n",
        "  selected_tool = {\n",
        "      \"add\":add,\n",
        "      \"multiply\":multiply,\n",
        "      \"annual_return\":annual_return\n",
        "  }[tool_call[\"name\"]]\n",
        "  res = selected_tool.invoke(tool_call)\n",
        "  message.append(res)"
      ],
      "metadata": {
        "id": "bdBARuE2BOCg"
      },
      "execution_count": 53,
      "outputs": []
    },
    {
      "cell_type": "code",
      "source": [
        "message"
      ],
      "metadata": {
        "colab": {
          "base_uri": "https://localhost:8080/"
        },
        "id": "OqgdJnbDBvKg",
        "outputId": "3211ca60-b67a-4f4e-a6e2-d87929761fb2"
      },
      "execution_count": 54,
      "outputs": [
        {
          "output_type": "execute_result",
          "data": {
            "text/plain": [
              "[HumanMessage(content='what is annual return of 25', additional_kwargs={}, response_metadata={}),\n",
              " AIMessage(content='', additional_kwargs={'function_call': {'name': 'annual_return', 'arguments': '{\"a\": 25.0}'}}, response_metadata={'prompt_feedback': {'block_reason': 0, 'safety_ratings': []}, 'finish_reason': 'STOP', 'safety_ratings': []}, id='run-1da9644f-b817-4522-91f7-60459efbe0a9-0', tool_calls=[{'name': 'annual_return', 'args': {'a': 25.0}, 'id': '3b2decb3-59e1-4dd7-b6c9-dd6f544450ad', 'type': 'tool_call'}], usage_metadata={'input_tokens': 133, 'output_tokens': 4, 'total_tokens': 137, 'input_token_details': {'cache_read': 0}}),\n",
              " ToolMessage(content='11.0', name='annual_return', tool_call_id='3b2decb3-59e1-4dd7-b6c9-dd6f544450ad')]"
            ]
          },
          "metadata": {},
          "execution_count": 54
        }
      ]
    },
    {
      "cell_type": "code",
      "source": [
        "llm_with_tools.invoke(message)"
      ],
      "metadata": {
        "colab": {
          "base_uri": "https://localhost:8080/"
        },
        "id": "1SdDpohnB0Re",
        "outputId": "35ecd08a-0d2e-402e-f571-5f2f46f4e760"
      },
      "execution_count": 55,
      "outputs": [
        {
          "output_type": "execute_result",
          "data": {
            "text/plain": [
              "AIMessage(content='The annual return of 25 is 11.', additional_kwargs={}, response_metadata={'prompt_feedback': {'block_reason': 0, 'safety_ratings': []}, 'finish_reason': 'STOP', 'safety_ratings': []}, id='run-7fd1a030-5037-404d-86b0-d1e7bceedb7e-0', usage_metadata={'input_tokens': 167, 'output_tokens': 12, 'total_tokens': 179, 'input_token_details': {'cache_read': 0}})"
            ]
          },
          "metadata": {},
          "execution_count": 55
        }
      ]
    }
  ]
}